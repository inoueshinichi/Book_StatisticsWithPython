{
 "cells": [
  {
   "cell_type": "markdown",
   "metadata": {},
   "source": [
    "% ロジスティック回帰モデル・・・データの確率分布は二項分布、リンク関数はロジット関数"
   ]
  },
  {
   "cell_type": "code",
   "execution_count": 1,
   "metadata": {},
   "outputs": [],
   "source": [
    "import numpy as np\n",
    "import pandas as pd\n",
    "import scipy as sp\n",
    "from scipy import stats\n",
    "from matplotlib import pyplot as plt\n",
    "import seaborn as sns\n",
    "sns.set()\n",
    "import statsmodels.formula.api as smf\n",
    "import statsmodels.api as sm\n",
    "% precision 3\n",
    "% matplotlib inline"
   ]
  },
  {
   "cell_type": "code",
   "execution_count": 2,
   "metadata": {},
   "outputs": [
    {
     "name": "stdout",
     "output_type": "stream",
     "text": [
      "    hours  result\n",
      "0       0       0\n",
      "1       0       0\n",
      "2       0       0\n",
      "3       0       0\n",
      "4       0       0\n",
      "5       0       0\n",
      "6       0       0\n",
      "7       0       0\n",
      "8       0       0\n",
      "9       0       0\n",
      "10      1       0\n",
      "11      1       0\n",
      "12      1       0\n",
      "13      1       0\n",
      "14      1       0\n",
      "15      1       0\n",
      "16      1       0\n",
      "17      1       0\n",
      "18      1       0\n",
      "19      1       0\n",
      "20      2       0\n",
      "21      2       1\n",
      "22      2       0\n",
      "23      2       0\n",
      "24      2       0\n",
      "25      2       0\n",
      "26      2       0\n",
      "27      2       0\n",
      "28      2       0\n",
      "29      2       0\n",
      "..    ...     ...\n",
      "70      7       0\n",
      "71      7       1\n",
      "72      7       1\n",
      "73      7       1\n",
      "74      7       1\n",
      "75      7       1\n",
      "76      7       0\n",
      "77      7       1\n",
      "78      7       1\n",
      "79      7       1\n",
      "80      8       1\n",
      "81      8       1\n",
      "82      8       1\n",
      "83      8       1\n",
      "84      8       1\n",
      "85      8       1\n",
      "86      8       1\n",
      "87      8       0\n",
      "88      8       1\n",
      "89      8       1\n",
      "90      9       1\n",
      "91      9       1\n",
      "92      9       1\n",
      "93      9       1\n",
      "94      9       1\n",
      "95      9       1\n",
      "96      9       1\n",
      "97      9       1\n",
      "98      9       1\n",
      "99      9       1\n",
      "\n",
      "[100 rows x 2 columns]\n"
     ]
    }
   ],
   "source": [
    "test_result = pd.read_csv(\"./data/6-3-1-logistic-regression.csv\")\n",
    "print(test_result)"
   ]
  },
  {
   "cell_type": "code",
   "execution_count": 3,
   "metadata": {},
   "outputs": [
    {
     "data": {
      "text/plain": [
       "<matplotlib.axes._subplots.AxesSubplot at 0x1137efbe0>"
      ]
     },
     "execution_count": 3,
     "metadata": {},
     "output_type": "execute_result"
    },
    {
     "data": {
      "image/png": "[encoded data removed]",
      "text/plain": [
       "<Figure size 432x288 with 1 Axes>"
      ]
     },
     "metadata": {},
     "output_type": "display_data"
    }
   ],
   "source": [
    "sns.barplot(x=\"hours\", y=\"result\", data=test_result, palette=\"gray_r\")\n",
    "#  縦軸合格者の平均値＝合格率"
   ]
  },
  {
   "cell_type": "code",
   "execution_count": 4,
   "metadata": {},
   "outputs": [
    {
     "name": "stdout",
     "output_type": "stream",
     "text": [
      "       result\n",
      "hours        \n",
      "0         0.0\n",
      "1         0.0\n",
      "2         0.1\n",
      "3         0.1\n",
      "4         0.4\n",
      "5         0.4\n",
      "6         0.9\n",
      "7         0.8\n",
      "8         0.9\n",
      "9         1.0\n"
     ]
    }
   ],
   "source": [
    "print(test_result.groupby(\"hours\").mean())"
   ]
  },
  {
   "cell_type": "code",
   "execution_count": 5,
   "metadata": {},
   "outputs": [],
   "source": [
    "# ロジスティック回帰モデル\n",
    "mod_glm = smf.glm(formula=\"result ~ hours\", data=test_result, family=sm.families.Binomial(link=sm.families.links.logit)).fit()"
   ]
  },
  {
   "cell_type": "code",
   "execution_count": 6,
   "metadata": {},
   "outputs": [
    {
     "data": {
      "text/html": [
       "<table class=\"simpletable\">\n",
       "<caption>Generalized Linear Model Regression Results</caption>\n",
       "<tr>\n",
       "  <th>Dep. Variable:</th>       <td>result</td>      <th>  No. Observations:  </th>  <td>   100</td>  \n",
       "</tr>\n",
       "<tr>\n",
       "  <th>Model:</th>                 <td>GLM</td>       <th>  Df Residuals:      </th>  <td>    98</td>  \n",
       "</tr>\n",
       "<tr>\n",
       "  <th>Model Family:</th>       <td>Binomial</td>     <th>  Df Model:          </th>  <td>     1</td>  \n",
       "</tr>\n",
       "<tr>\n",
       "  <th>Link Function:</th>        <td>logit</td>      <th>  Scale:             </th> <td>  1.0000</td> \n",
       "</tr>\n",
       "<tr>\n",
       "  <th>Method:</th>               <td>IRLS</td>       <th>  Log-Likelihood:    </th> <td> -34.014</td> \n",
       "</tr>\n",
       "<tr>\n",
       "  <th>Date:</th>           <td>Wed, 22 Aug 2018</td> <th>  Deviance:          </th> <td>  68.028</td> \n",
       "</tr>\n",
       "<tr>\n",
       "  <th>Time:</th>               <td>20:05:05</td>     <th>  Pearson chi2:      </th>  <td>  84.9</td>  \n",
       "</tr>\n",
       "<tr>\n",
       "  <th>No. Iterations:</th>         <td>6</td>        <th>  Covariance Type:   </th> <td>nonrobust</td>\n",
       "</tr>\n",
       "</table>\n",
       "<table class=\"simpletable\">\n",
       "<tr>\n",
       "      <td></td>         <th>coef</th>     <th>std err</th>      <th>z</th>      <th>P>|z|</th>  <th>[0.025</th>    <th>0.975]</th>  \n",
       "</tr>\n",
       "<tr>\n",
       "  <th>Intercept</th> <td>   -4.5587</td> <td>    0.901</td> <td>   -5.061</td> <td> 0.000</td> <td>   -6.324</td> <td>   -2.793</td>\n",
       "</tr>\n",
       "<tr>\n",
       "  <th>hours</th>     <td>    0.9289</td> <td>    0.174</td> <td>    5.345</td> <td> 0.000</td> <td>    0.588</td> <td>    1.270</td>\n",
       "</tr>\n",
       "</table>"
      ],
      "text/plain": [
       "<class 'statsmodels.iolib.summary.Summary'>\n",
       "\"\"\"\n",
       "                 Generalized Linear Model Regression Results                  \n",
       "==============================================================================\n",
       "Dep. Variable:                 result   No. Observations:                  100\n",
       "Model:                            GLM   Df Residuals:                       98\n",
       "Model Family:                Binomial   Df Model:                            1\n",
       "Link Function:                  logit   Scale:                          1.0000\n",
       "Method:                          IRLS   Log-Likelihood:                -34.014\n",
       "Date:                Wed, 22 Aug 2018   Deviance:                       68.028\n",
       "Time:                        20:05:05   Pearson chi2:                     84.9\n",
       "No. Iterations:                     6   Covariance Type:             nonrobust\n",
       "==============================================================================\n",
       "                 coef    std err          z      P>|z|      [0.025      0.975]\n",
       "------------------------------------------------------------------------------\n",
       "Intercept     -4.5587      0.901     -5.061      0.000      -6.324      -2.793\n",
       "hours          0.9289      0.174      5.345      0.000       0.588       1.270\n",
       "==============================================================================\n",
       "\"\"\""
      ]
     },
     "execution_count": 6,
     "metadata": {},
     "output_type": "execute_result"
    }
   ],
   "source": [
    "mod_glm.summary()"
   ]
  },
  {
   "cell_type": "code",
   "execution_count": 7,
   "metadata": {},
   "outputs": [],
   "source": [
    "# モデル選択（比較） AICによって判断\n",
    "\n",
    "# NULLモデル\n",
    "mod_glm_null = smf.glm(\"result ~ 1\", data=test_result, family=sm.families.Binomial(link=sm.families.links.logit)).fit()"
   ]
  },
  {
   "cell_type": "code",
   "execution_count": 8,
   "metadata": {},
   "outputs": [
    {
     "name": "stdout",
     "output_type": "stream",
     "text": [
      "Nullモデル : 139.989\n",
      "変数入りモデル : 72.028\n"
     ]
    }
   ],
   "source": [
    "# NULLモデルと変数(hour)入りモデルの比較\n",
    "print(\"Nullモデル :\", mod_glm_null.aic.round(3))\n",
    "print(\"変数入りモデル :\", mod_glm.aic.round(3))"
   ]
  },
  {
   "cell_type": "code",
   "execution_count": 9,
   "metadata": {},
   "outputs": [
    {
     "data": {
      "text/plain": [
       "<seaborn.axisgrid.FacetGrid at 0x118ce0fd0>"
      ]
     },
     "execution_count": 9,
     "metadata": {},
     "output_type": "execute_result"
    },
    {
     "data": {
      "image/png": "[encoded data removed]",
      "text/plain": [
       "<Figure size 360x360 with 1 Axes>"
      ]
     },
     "metadata": {},
     "output_type": "display_data"
    }
   ],
   "source": [
    "# 理論上の合格率（成功確率）を計算\n",
    "sns.lmplot(x=\"hours\", y=\"result\", data=test_result, logistic=True, scatter_kws={\"color\": \"red\"}, line_kws={\"color\": \"black\"}, \n",
    "          x_jitter=0.1, y_jitter=0.02)"
   ]
  },
  {
   "cell_type": "code",
   "execution_count": 10,
   "metadata": {},
   "outputs": [
    {
     "data": {
      "text/plain": [
       "0    0.010367\n",
       "1    0.025836\n",
       "2    0.062920\n",
       "3    0.145291\n",
       "4    0.300876\n",
       "5    0.521427\n",
       "6    0.733929\n",
       "7    0.874741\n",
       "8    0.946467\n",
       "9    0.978147\n",
       "dtype: float64"
      ]
     },
     "execution_count": 10,
     "metadata": {},
     "output_type": "execute_result"
    }
   ],
   "source": [
    "# 数値で合格率を計算\n",
    "# 0-9まで1ずつ増える\n",
    "exp_val = pd.DataFrame({\"hours\": np.arange(0, 10, 1)})\n",
    "pred_prob = mod_glm.predict(exp_val)\n",
    "pred_prob"
   ]
  },
  {
   "cell_type": "code",
   "execution_count": 11,
   "metadata": {},
   "outputs": [
    {
     "data": {
      "text/plain": [
       "0    False\n",
       "1    False\n",
       "2    False\n",
       "3    False\n",
       "4    False\n",
       "5     True\n",
       "6     True\n",
       "7     True\n",
       "8     True\n",
       "9     True\n",
       "dtype: bool"
      ]
     },
     "execution_count": 11,
     "metadata": {},
     "output_type": "execute_result"
    }
   ],
   "source": [
    "# 合格者\n",
    "pred_prob > 0.5"
   ]
  },
  {
   "cell_type": "code",
   "execution_count": 12,
   "metadata": {},
   "outputs": [],
   "source": [
    "# オッズ・・・失敗と比較して成功が何倍あるか\n",
    "# オッズ= p / (1 - p)\n",
    "# 対数オッズ = log(p / (1 - p)) = logit関数 logit(x) = log (x / (1 - x))\n",
    "# xのアンダーフローをオッズに変換→無限大を回避する"
   ]
  },
  {
   "cell_type": "code",
   "execution_count": 13,
   "metadata": {},
   "outputs": [],
   "source": [
    "# オッズ比・・・どっちが成功しやすいか"
   ]
  },
  {
   "cell_type": "code",
   "execution_count": 14,
   "metadata": {},
   "outputs": [],
   "source": [
    "# ロジスティック回帰の係数とオッズ比の関係\n",
    "# logit(p) = beta0 + beta1 * x\n",
    "# logit(p1) = beta0 + beta1 * x\n",
    "# logit(p2) = beta0 + beta1 * (1 + x)\n",
    "\n",
    "# logit(p2) - logit(p1) = beta1 * 1\n",
    "# log(p2 _odds) -  log(p1_odds) = log(p2_odds / p1_odds) = log( p2(1-p1) / p1(1-p2) ) = beta1 * 1\n",
    "# p2_odds / p1_odds = exp(beta1)\n",
    "\n",
    "# つまり、ロジスティック回帰係数＝説明変数が１だけ変化したときの対数オッズ比"
   ]
  },
  {
   "cell_type": "code",
   "execution_count": 15,
   "metadata": {},
   "outputs": [],
   "source": [
    "# 勉強時間が1時間の合格率\n",
    "exp_val_1 = pd.DataFrame({\"hours\": [1]})\n",
    "pred_1 = mod_glm.predict(exp_val_1)\n",
    "\n",
    "# 勉強時間が2時間の合格率\n",
    "exp_val_2 = pd.DataFrame({\"hours\": [2]})\n",
    "pred_2 = mod_glm.predict(exp_val_2)"
   ]
  },
  {
   "cell_type": "code",
   "execution_count": null,
   "metadata": {},
   "outputs": [],
   "source": []
  }
 ],
 "metadata": {
  "kernelspec": {
   "display_name": "Python 3",
   "language": "python",
   "name": "python3"
  },
  "language_info": {
   "codemirror_mode": {
    "name": "ipython",
    "version": 3
   },
   "file_extension": ".py",
   "mimetype": "text/x-python",
   "name": "python",
   "nbconvert_exporter": "python",
   "pygments_lexer": "ipython3",
   "version": "3.6.5"
  }
 },
 "nbformat": 4,
 "nbformat_minor": 2
}
