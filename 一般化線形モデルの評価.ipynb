{
 "cells": [
  {
   "cell_type": "code",
   "execution_count": 1,
   "metadata": {},
   "outputs": [],
   "source": [
    "import numpy as np\n",
    "import pandas as pd\n",
    "import scipy as sp\n",
    "from scipy import stats\n",
    "from matplotlib import pyplot as plt\n",
    "import seaborn as sns\n",
    "sns.set()\n",
    "import statsmodels.formula.api as smf\n",
    "import statsmodels.api as sm\n",
    "%precision 3\n",
    "%matplotlib inline"
   ]
  },
  {
   "cell_type": "code",
   "execution_count": 6,
   "metadata": {},
   "outputs": [],
   "source": [
    "test_result = pd.read_csv(\"./data/6-3-1-logistic-regression.csv\")\n",
    "mod_glm = smf.glm(\"result ~ hours\", data=test_result, family=sm.families.Binomial(link=sm.families.links.logit)).fit()"
   ]
  },
  {
   "cell_type": "code",
   "execution_count": 7,
   "metadata": {},
   "outputs": [],
   "source": [
    "# ピアソン残差＝(応答変数 - 予測値) / 分布の標準偏差"
   ]
  },
  {
   "cell_type": "code",
   "execution_count": 8,
   "metadata": {},
   "outputs": [
    {
     "data": {
      "text/plain": [
       "0    -0.102351\n",
       "1    -0.102351\n",
       "2    -0.102351\n",
       "3    -0.102351\n",
       "4    -0.102351\n",
       "5    -0.102351\n",
       "6    -0.102351\n",
       "7    -0.102351\n",
       "8    -0.102351\n",
       "9    -0.102351\n",
       "10   -0.162854\n",
       "11   -0.162854\n",
       "12   -0.162854\n",
       "13   -0.162854\n",
       "14   -0.162854\n",
       "15   -0.162854\n",
       "16   -0.162854\n",
       "17   -0.162854\n",
       "18   -0.162854\n",
       "19   -0.162854\n",
       "20   -0.259122\n",
       "21    3.859183\n",
       "22   -0.259122\n",
       "23   -0.259122\n",
       "24   -0.259122\n",
       "25   -0.259122\n",
       "26   -0.259122\n",
       "27   -0.259122\n",
       "28   -0.259122\n",
       "29   -0.259122\n",
       "        ...   \n",
       "70   -2.642618\n",
       "71    0.378413\n",
       "72    0.378413\n",
       "73    0.378413\n",
       "74    0.378413\n",
       "75    0.378413\n",
       "76   -2.642618\n",
       "77    0.378413\n",
       "78    0.378413\n",
       "79    0.378413\n",
       "80    0.237826\n",
       "81    0.237826\n",
       "82    0.237826\n",
       "83    0.237826\n",
       "84    0.237826\n",
       "85    0.237826\n",
       "86    0.237826\n",
       "87   -4.204751\n",
       "88    0.237826\n",
       "89    0.237826\n",
       "90    0.149470\n",
       "91    0.149470\n",
       "92    0.149470\n",
       "93    0.149470\n",
       "94    0.149470\n",
       "95    0.149470\n",
       "96    0.149470\n",
       "97    0.149470\n",
       "98    0.149470\n",
       "99    0.149470\n",
       "Name: result, Length: 100, dtype: float64"
      ]
     },
     "execution_count": 8,
     "metadata": {},
     "output_type": "execute_result"
    }
   ],
   "source": [
    "# 予測された成功確率\n",
    "pred = mod_glm.predict()\n",
    "# 応答変数の結果（テストの合否）\n",
    "y = test_result.result\n",
    "# ピアソンざんさ\n",
    "peason_resid = (y - pred) / sp.sqrt(pred * (1 - pred))\n",
    "peason_resid"
   ]
  },
  {
   "cell_type": "code",
   "execution_count": 12,
   "metadata": {},
   "outputs": [
    {
     "data": {
      "text/plain": [
       "0   -0.102351\n",
       "1   -0.102351\n",
       "2   -0.102351\n",
       "dtype: float64"
      ]
     },
     "execution_count": 12,
     "metadata": {},
     "output_type": "execute_result"
    }
   ],
   "source": [
    "# モデルから直接ピアソン残差を得る\n",
    "mod_glm.resid_pearson.head(3)"
   ]
  },
  {
   "cell_type": "code",
   "execution_count": 13,
   "metadata": {},
   "outputs": [
    {
     "data": {
      "text/plain": [
       "84.91138782569983"
      ]
     },
     "execution_count": 13,
     "metadata": {},
     "output_type": "execute_result"
    }
   ],
   "source": [
    "# ピアソンχ二乗統計量\n",
    "sp.sum(mod_glm.resid_pearson ** 2)"
   ]
  },
  {
   "cell_type": "code",
   "execution_count": 14,
   "metadata": {},
   "outputs": [],
   "source": [
    "# deviance = 2(log(max) - log(pred))\n",
    "# 残差平方和と同じ意味\n",
    "# deviance1 - deviance2 = 尤度比 ~ χ二乗分布 -> 尤度比検定"
   ]
  },
  {
   "cell_type": "code",
   "execution_count": 15,
   "metadata": {},
   "outputs": [],
   "source": [
    "# deviance残差\n",
    "# sum(deviance残差 )^2 = deviance"
   ]
  },
  {
   "cell_type": "code",
   "execution_count": 28,
   "metadata": {},
   "outputs": [
    {
     "name": "stdout",
     "output_type": "stream",
     "text": [
      "pred.head(5) [0.01 0.01 0.01 0.01 0.01]\n",
      "      result  result\n",
      "0  -0.010367    -1.0\n",
      "1  -0.010367    -1.0\n",
      "2  -0.010367    -1.0\n",
      "3  -0.010367    -1.0\n",
      "4  -0.010367    -1.0\n",
      "5  -0.010367    -1.0\n",
      "6  -0.010367    -1.0\n",
      "7  -0.010367    -1.0\n",
      "8  -0.010367    -1.0\n",
      "9  -0.010367    -1.0\n",
      "10 -0.025836    -1.0\n",
      "11 -0.025836    -1.0\n",
      "12 -0.025836    -1.0\n",
      "13 -0.025836    -1.0\n",
      "14 -0.025836    -1.0\n",
      "15 -0.025836    -1.0\n",
      "16 -0.025836    -1.0\n",
      "17 -0.025836    -1.0\n",
      "18 -0.025836    -1.0\n",
      "19 -0.025836    -1.0\n",
      "20 -0.062920    -1.0\n",
      "21  0.937080     1.0\n",
      "22 -0.062920    -1.0\n",
      "23 -0.062920    -1.0\n",
      "24 -0.062920    -1.0\n",
      "25 -0.062920    -1.0\n",
      "26 -0.062920    -1.0\n",
      "27 -0.062920    -1.0\n",
      "28 -0.062920    -1.0\n",
      "29 -0.062920    -1.0\n",
      "..       ...     ...\n",
      "70 -0.874741    -1.0\n",
      "71  0.125259     1.0\n",
      "72  0.125259     1.0\n",
      "73  0.125259     1.0\n",
      "74  0.125259     1.0\n",
      "75  0.125259     1.0\n",
      "76 -0.874741    -1.0\n",
      "77  0.125259     1.0\n",
      "78  0.125259     1.0\n",
      "79  0.125259     1.0\n",
      "80  0.053533     1.0\n",
      "81  0.053533     1.0\n",
      "82  0.053533     1.0\n",
      "83  0.053533     1.0\n",
      "84  0.053533     1.0\n",
      "85  0.053533     1.0\n",
      "86  0.053533     1.0\n",
      "87 -0.946467    -1.0\n",
      "88  0.053533     1.0\n",
      "89  0.053533     1.0\n",
      "90  0.021853     1.0\n",
      "91  0.021853     1.0\n",
      "92  0.021853     1.0\n",
      "93  0.021853     1.0\n",
      "94  0.021853     1.0\n",
      "95  0.021853     1.0\n",
      "96  0.021853     1.0\n",
      "97  0.021853     1.0\n",
      "98  0.021853     1.0\n",
      "99  0.021853     1.0\n",
      "\n",
      "[100 rows x 2 columns]\n"
     ]
    }
   ],
   "source": [
    "# deviance残差\n",
    "\n",
    "# 予測された成功確率\n",
    "pred = mod_glm.predict()\n",
    "print(\"pred.head(5)\", pred[:5])\n",
    "# 応答変数\n",
    "y = test_result.result\n",
    "\n",
    "# 合否を完全に予測できた時の対数尤度\n",
    "logLike_complete = 0\n",
    "resid_logLike = logLike_complete - sp.stats.binom.pmf(k=y, n=1, p=pred)\n",
    "\n",
    "# deviance残差\n",
    "pred_set = pd.concat([y - pred, np.sign(y - pred)], axis=1)\n",
    "print(pred_set)\n",
    "#deviance_resid = sp.sqrt(2 * resid_logLike) * np.sign(y - pred)"
   ]
  },
  {
   "cell_type": "code",
   "execution_count": null,
   "metadata": {},
   "outputs": [],
   "source": []
  }
 ],
 "metadata": {
  "kernelspec": {
   "display_name": "Python 3",
   "language": "python",
   "name": "python3"
  },
  "language_info": {
   "codemirror_mode": {
    "name": "ipython",
    "version": 3
   },
   "file_extension": ".py",
   "mimetype": "text/x-python",
   "name": "python",
   "nbconvert_exporter": "python",
   "pygments_lexer": "ipython3",
   "version": "3.6.5"
  }
 },
 "nbformat": 4,
 "nbformat_minor": 2
}
