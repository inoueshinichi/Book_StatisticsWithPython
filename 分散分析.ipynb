{
 "cells": [
  {
   "cell_type": "code",
   "execution_count": 60,
   "metadata": {},
   "outputs": [],
   "source": [
    "import numpy as np\n",
    "import pandas as pd\n",
    "import scipy as sp\n",
    "import matplotlib.pyplot as plt\n",
    "import seaborn as sns\n",
    "sns.set()\n",
    "import statsmodels.formula.api as smf\n",
    "import statsmodels.api as sm\n",
    "%precision 3\n",
    "%matplotlib inline"
   ]
  },
  {
   "cell_type": "code",
   "execution_count": 61,
   "metadata": {},
   "outputs": [
    {
     "name": "stdout",
     "output_type": "stream",
     "text": [
      "   beer weather\n",
      "0     6  cloudy\n",
      "1     8  cloudy\n",
      "2     2   rainy\n",
      "3     4   rainy\n",
      "4    10   sunny\n",
      "5    12   sunny\n"
     ]
    }
   ],
   "source": [
    "# サンプルデータの作成\n",
    "weather = [ \"cloudy\", \"cloudy\", \"rainy\", \"rainy\", \"sunny\", \"sunny\" ]\n",
    "beer = [6, 8, 2, 4, 10, 12]\n",
    "weather_beer = pd.DataFrame({\n",
    "    \"beer\": beer,\n",
    "    \"weather\": weather\n",
    "})\n",
    "print(weather_beer)"
   ]
  },
  {
   "cell_type": "code",
   "execution_count": 62,
   "metadata": {},
   "outputs": [
    {
     "data": {
      "text/plain": [
       "<matplotlib.axes._subplots.AxesSubplot at 0x1c2966ac50>"
      ]
     },
     "execution_count": 62,
     "metadata": {},
     "output_type": "execute_result"
    },
    {
     "data": {
      "image/png": "[encoded data removed]",
      "text/plain": [
       "<Figure size 432x288 with 1 Axes>"
      ]
     },
     "metadata": {},
     "output_type": "display_data"
    }
   ],
   "source": [
    "sns.boxplot(x=\"weather\", y=\"beer\", data=weather_beer, color=\"gray\")"
   ]
  },
  {
   "cell_type": "code",
   "execution_count": 63,
   "metadata": {},
   "outputs": [
    {
     "name": "stdout",
     "output_type": "stream",
     "text": [
      "         beer\n",
      "weather      \n",
      "cloudy      7\n",
      "rainy       3\n",
      "sunny      11\n"
     ]
    }
   ],
   "source": [
    "# 効果：天気ごとの売上の平均値\n",
    "weather_mean = weather_beer.groupby(\"weather\").mean()\n",
    "print(weather_mean)"
   ]
  },
  {
   "cell_type": "code",
   "execution_count": 64,
   "metadata": {},
   "outputs": [
    {
     "name": "stdout",
     "output_type": "stream",
     "text": [
      "64.0\n"
     ]
    }
   ],
   "source": [
    "# 1. 群間・郡内平方和の計算\n",
    "# 天気のもつ影響（効果）\n",
    "effect = [7,7,3,3,11,11]\n",
    "\n",
    "mu_effect = sp.mean(effect)\n",
    "squares_model = sp.sum((effect - mu_effect)**2)\n",
    "print(squares_model)"
   ]
  },
  {
   "cell_type": "code",
   "execution_count": 65,
   "metadata": {},
   "outputs": [
    {
     "name": "stdout",
     "output_type": "stream",
     "text": [
      "0   -1\n",
      "1    1\n",
      "2   -1\n",
      "3    1\n",
      "4   -1\n",
      "5    1\n",
      "Name: beer, dtype: int64\n"
     ]
    }
   ],
   "source": [
    "# 誤差の影響　元データから効果を引く\n",
    "resid = weather_beer.beer - effect\n",
    "print(resid)"
   ]
  },
  {
   "cell_type": "code",
   "execution_count": 66,
   "metadata": {},
   "outputs": [
    {
     "name": "stdout",
     "output_type": "stream",
     "text": [
      "6\n"
     ]
    }
   ],
   "source": [
    "squares_resid = sp.sum(resid**2)\n",
    "print(squares_resid)"
   ]
  },
  {
   "cell_type": "code",
   "execution_count": 67,
   "metadata": {},
   "outputs": [],
   "source": [
    "# 2.群間・郡内分散の計算\n",
    "\n",
    "# 自由度を計算\n",
    "# 効果の自由度=水準の数 - 1\n",
    "# 影響の自由度=サンプルサイズ - 水準の数\n",
    "df_model = 2 # 群間変動の自由度\n",
    "df_resid = 3 # 郡内変動の自由度"
   ]
  },
  {
   "cell_type": "code",
   "execution_count": 68,
   "metadata": {},
   "outputs": [
    {
     "name": "stdout",
     "output_type": "stream",
     "text": [
      "32.0\n"
     ]
    }
   ],
   "source": [
    "# 群間変動の分散\n",
    "variance_model = squares_model / df_model\n",
    "print(variance_model)"
   ]
  },
  {
   "cell_type": "code",
   "execution_count": 69,
   "metadata": {},
   "outputs": [
    {
     "name": "stdout",
     "output_type": "stream",
     "text": [
      "2.0\n"
     ]
    }
   ],
   "source": [
    "# 郡内変動の分散\n",
    "variance_resid = squares_resid / df_resid\n",
    "print(variance_resid)"
   ]
  },
  {
   "cell_type": "code",
   "execution_count": 70,
   "metadata": {},
   "outputs": [
    {
     "name": "stdout",
     "output_type": "stream",
     "text": [
      "16.0\n"
     ]
    }
   ],
   "source": [
    "# F比からp値を計算\n",
    "f_ratio = variance_model / variance_resid\n",
    "print(f_ratio)"
   ]
  },
  {
   "cell_type": "code",
   "execution_count": 71,
   "metadata": {
    "scrolled": true
   },
   "outputs": [
    {
     "name": "stdout",
     "output_type": "stream",
     "text": [
      "0.02509457330439091\n"
     ]
    }
   ],
   "source": [
    "# p値をF分布の累積分布関数から計算\n",
    "fP_value = 1 - sp.stats.f.cdf(x=f_ratio, dfn=df_model, dfd=df_resid)\n",
    "print(fP_value)"
   ]
  },
  {
   "cell_type": "code",
   "execution_count": 72,
   "metadata": {},
   "outputs": [
    {
     "data": {
      "text/html": [
       "<div>\n",
       "<style scoped>\n",
       "    .dataframe tbody tr th:only-of-type {\n",
       "        vertical-align: middle;\n",
       "    }\n",
       "\n",
       "    .dataframe tbody tr th {\n",
       "        vertical-align: top;\n",
       "    }\n",
       "\n",
       "    .dataframe thead th {\n",
       "        text-align: right;\n",
       "    }\n",
       "</style>\n",
       "<table border=\"1\" class=\"dataframe\">\n",
       "  <thead>\n",
       "    <tr style=\"text-align: right;\">\n",
       "      <th></th>\n",
       "      <th>beer</th>\n",
       "      <th>weather</th>\n",
       "    </tr>\n",
       "  </thead>\n",
       "  <tbody>\n",
       "    <tr>\n",
       "      <th>0</th>\n",
       "      <td>6</td>\n",
       "      <td>cloudy</td>\n",
       "    </tr>\n",
       "    <tr>\n",
       "      <th>1</th>\n",
       "      <td>8</td>\n",
       "      <td>cloudy</td>\n",
       "    </tr>\n",
       "    <tr>\n",
       "      <th>2</th>\n",
       "      <td>2</td>\n",
       "      <td>rainy</td>\n",
       "    </tr>\n",
       "    <tr>\n",
       "      <th>3</th>\n",
       "      <td>4</td>\n",
       "      <td>rainy</td>\n",
       "    </tr>\n",
       "    <tr>\n",
       "      <th>4</th>\n",
       "      <td>10</td>\n",
       "      <td>sunny</td>\n",
       "    </tr>\n",
       "    <tr>\n",
       "      <th>5</th>\n",
       "      <td>12</td>\n",
       "      <td>sunny</td>\n",
       "    </tr>\n",
       "  </tbody>\n",
       "</table>\n",
       "</div>"
      ],
      "text/plain": [
       "   beer weather\n",
       "0     6  cloudy\n",
       "1     8  cloudy\n",
       "2     2   rainy\n",
       "3     4   rainy\n",
       "4    10   sunny\n",
       "5    12   sunny"
      ]
     },
     "execution_count": 72,
     "metadata": {},
     "output_type": "execute_result"
    }
   ],
   "source": [
    "weather_beer"
   ]
  },
  {
   "cell_type": "code",
   "execution_count": 73,
   "metadata": {},
   "outputs": [
    {
     "name": "stdout",
     "output_type": "stream",
     "text": [
      "          sum_sq   df     F    PR(>F)\n",
      "weather     64.0  2.0  16.0  0.025095\n",
      "Residual     6.0  3.0   NaN       NaN\n"
     ]
    }
   ],
   "source": [
    "# 正規線形モデルにカテゴリ型の説明変数を組み込んで、ビールの売上モデルを作る。\n",
    "# カテゴリ型に0/1のダミー変数をつける\n",
    "# beer ~ N(beta0 + beta1 * 雨 + beta2 * 晴れ,  σ^2)\n",
    "\n",
    "anova_model = smf.ols(\"beer ~ weather\", data = weather_beer).fit()\n",
    "\n",
    "# 分散分析の実行 (ANalysis Of VAriance)\n",
    "print(sm.stats.anova_lm(anova_model, typ=2)) # 分散分析表"
   ]
  },
  {
   "cell_type": "code",
   "execution_count": 74,
   "metadata": {},
   "outputs": [
    {
     "data": {
      "text/plain": [
       "Intercept           7.0\n",
       "weather[T.rainy]   -4.0\n",
       "weather[T.sunny]    4.0\n",
       "dtype: float64"
      ]
     },
     "execution_count": 74,
     "metadata": {},
     "output_type": "execute_result"
    }
   ],
   "source": [
    "# 推定されたモデルの係数\n",
    "anova_model.params"
   ]
  },
  {
   "cell_type": "code",
   "execution_count": 75,
   "metadata": {},
   "outputs": [
    {
     "data": {
      "text/plain": [
       "0     7.0\n",
       "1     7.0\n",
       "2     3.0\n",
       "3     3.0\n",
       "4    11.0\n",
       "5    11.0\n",
       "dtype: float64"
      ]
     },
     "execution_count": 75,
     "metadata": {},
     "output_type": "execute_result"
    }
   ],
   "source": [
    "# 推定モデルを用いて、訓練データに対する当てはめ結果を見る\n",
    "fitted = anova_model.fittedvalues\n",
    "fitted"
   ]
  },
  {
   "cell_type": "code",
   "execution_count": 76,
   "metadata": {},
   "outputs": [
    {
     "data": {
      "text/plain": [
       "0   -1.0\n",
       "1    1.0\n",
       "2   -1.0\n",
       "3    1.0\n",
       "4   -1.0\n",
       "5    1.0\n",
       "dtype: float64"
      ]
     },
     "execution_count": 76,
     "metadata": {},
     "output_type": "execute_result"
    }
   ],
   "source": [
    "# 残差\n",
    "anova_model.resid"
   ]
  },
  {
   "cell_type": "code",
   "execution_count": 77,
   "metadata": {},
   "outputs": [
    {
     "name": "stdout",
     "output_type": "stream",
     "text": [
      "                  sum_sq    df          F    PR(>F)\n",
      "temperature  1651.532489   1.0  28.446984  0.000011\n",
      "Residual     1625.582178  28.0        NaN       NaN\n"
     ]
    }
   ],
   "source": [
    "# 回帰モデル（説明変数が連続値）における分散分析\n",
    "\n",
    "beer = pd.read_csv(\"./data/5-1-1-beer.csv\")\n",
    "lm_model = smf.ols(formula=\"beer ~ temperature\", data=beer).fit()\n",
    "print(sm.stats.anova_lm(lm_model, typ=2))"
   ]
  },
  {
   "cell_type": "code",
   "execution_count": 78,
   "metadata": {},
   "outputs": [
    {
     "name": "stdout",
     "output_type": "stream",
     "text": [
      "Intercept      34.610215\n",
      "temperature     0.765428\n",
      "dtype: float64\n"
     ]
    }
   ],
   "source": [
    "print(lm_model.params)\n"
   ]
  },
  {
   "cell_type": "code",
   "execution_count": 79,
   "metadata": {},
   "outputs": [
    {
     "data": {
      "text/plain": [
       "0     50.301481\n",
       "1     53.745905\n",
       "2     42.264491\n",
       "3     55.200217\n",
       "4     46.703971\n",
       "5     37.825011\n",
       "6     44.943488\n",
       "7     54.511333\n",
       "8     52.444678\n",
       "9     41.116350\n",
       "10    54.664418\n",
       "11    49.229882\n",
       "12    53.210106\n",
       "13    52.444678\n",
       "14    41.039807\n",
       "15    52.597764\n",
       "16    45.249659\n",
       "17    61.782895\n",
       "18    55.429846\n",
       "19    50.301481\n",
       "20    42.417577\n",
       "21    50.301481\n",
       "22    51.143451\n",
       "23    40.657093\n",
       "24    66.911259\n",
       "25    52.903935\n",
       "26    62.854493\n",
       "27    41.422521\n",
       "28    62.471779\n",
       "29    39.508952\n",
       "dtype: float64"
      ]
     },
     "execution_count": 79,
     "metadata": {},
     "output_type": "execute_result"
    }
   ],
   "source": [
    "beer_fitted = lm_model.fittedvalues\n",
    "beer_fitted"
   ]
  },
  {
   "cell_type": "code",
   "execution_count": 80,
   "metadata": {},
   "outputs": [
    {
     "name": "stdout",
     "output_type": "stream",
     "text": [
      "0     -5.001481\n",
      "1      5.554095\n",
      "2     -1.864491\n",
      "3    -17.200217\n",
      "4     -9.703971\n",
      "5      3.074989\n",
      "6     15.256512\n",
      "7      8.788667\n",
      "8     -1.344678\n",
      "9      3.783650\n",
      "10    -7.664418\n",
      "11     3.970118\n",
      "12    -9.710106\n",
      "13     0.755322\n",
      "14    -3.639807\n",
      "15     7.302236\n",
      "16    -3.749659\n",
      "17    13.317105\n",
      "18     0.170154\n",
      "19     6.898519\n",
      "20     4.082423\n",
      "21   -14.501481\n",
      "22     0.756549\n",
      "23    -2.457093\n",
      "24    -0.911259\n",
      "25     2.396065\n",
      "26    -7.554493\n",
      "27     1.877479\n",
      "28     8.028221\n",
      "29    -0.708952\n",
      "dtype: float64\n"
     ]
    }
   ],
   "source": [
    "print(lm_model.resid)"
   ]
  },
  {
   "cell_type": "code",
   "execution_count": 81,
   "metadata": {},
   "outputs": [
    {
     "name": "stdout",
     "output_type": "stream",
     "text": [
      "28.446983688504666\n",
      "1.1148907825053733e-05\n"
     ]
    }
   ],
   "source": [
    "# マニュアルでF分布のp値を計算\n",
    "\n",
    "# 群間変動(モデル変動)\n",
    "lm_effect = lm_model.fittedvalues\n",
    "lm_effect_mean = sp.sum(lm_effect) / len(lm_effect)\n",
    "lm_effect_squares = sp.sum((lm_effect - lm_effect_mean) ** 2)\n",
    "lm_effect_df = 2 - 1 # パラメータ数 - 1\n",
    "lm_effect_var = lm_effect_squares / lm_effect_df\n",
    "\n",
    "# 郡内変動(残差変動)\n",
    "lm_resid = lm_model.resid\n",
    "lm_resid_squares = sp.sum(lm_resid ** 2) # 残差の平均値はゼロ\n",
    "lm_resid_df = len(beer) - 2 # サンプルサイズ - パラメータ数\n",
    "lm_resid_var = lm_resid_squares / lm_resid_df\n",
    "\n",
    "# F値\n",
    "F_value = lm_effect_var / lm_resid_var\n",
    "print(F_value)\n",
    "F_p = 1.0 - sp.stats.f.cdf(x=F_value, dfn=lm_effect_df, dfd=lm_resid_df)\n",
    "print(F_p)"
   ]
  },
  {
   "cell_type": "code",
   "execution_count": 82,
   "metadata": {},
   "outputs": [
    {
     "data": {
      "text/html": [
       "<table class=\"simpletable\">\n",
       "<caption>OLS Regression Results</caption>\n",
       "<tr>\n",
       "  <th>Dep. Variable:</th>          <td>beer</td>       <th>  R-squared:         </th> <td>   0.504</td>\n",
       "</tr>\n",
       "<tr>\n",
       "  <th>Model:</th>                   <td>OLS</td>       <th>  Adj. R-squared:    </th> <td>   0.486</td>\n",
       "</tr>\n",
       "<tr>\n",
       "  <th>Method:</th>             <td>Least Squares</td>  <th>  F-statistic:       </th> <td>   28.45</td>\n",
       "</tr>\n",
       "<tr>\n",
       "  <th>Date:</th>             <td>Fri, 17 Aug 2018</td> <th>  Prob (F-statistic):</th> <td>1.11e-05</td>\n",
       "</tr>\n",
       "<tr>\n",
       "  <th>Time:</th>                 <td>19:14:34</td>     <th>  Log-Likelihood:    </th> <td> -102.45</td>\n",
       "</tr>\n",
       "<tr>\n",
       "  <th>No. Observations:</th>      <td>    30</td>      <th>  AIC:               </th> <td>   208.9</td>\n",
       "</tr>\n",
       "<tr>\n",
       "  <th>Df Residuals:</th>          <td>    28</td>      <th>  BIC:               </th> <td>   211.7</td>\n",
       "</tr>\n",
       "<tr>\n",
       "  <th>Df Model:</th>              <td>     1</td>      <th>                     </th>     <td> </td>   \n",
       "</tr>\n",
       "<tr>\n",
       "  <th>Covariance Type:</th>      <td>nonrobust</td>    <th>                     </th>     <td> </td>   \n",
       "</tr>\n",
       "</table>\n",
       "<table class=\"simpletable\">\n",
       "<tr>\n",
       "       <td></td>          <th>coef</th>     <th>std err</th>      <th>t</th>      <th>P>|t|</th>  <th>[0.025</th>    <th>0.975]</th>  \n",
       "</tr>\n",
       "<tr>\n",
       "  <th>Intercept</th>   <td>   34.6102</td> <td>    3.235</td> <td>   10.699</td> <td> 0.000</td> <td>   27.984</td> <td>   41.237</td>\n",
       "</tr>\n",
       "<tr>\n",
       "  <th>temperature</th> <td>    0.7654</td> <td>    0.144</td> <td>    5.334</td> <td> 0.000</td> <td>    0.471</td> <td>    1.059</td>\n",
       "</tr>\n",
       "</table>\n",
       "<table class=\"simpletable\">\n",
       "<tr>\n",
       "  <th>Omnibus:</th>       <td> 0.587</td> <th>  Durbin-Watson:     </th> <td>   1.960</td>\n",
       "</tr>\n",
       "<tr>\n",
       "  <th>Prob(Omnibus):</th> <td> 0.746</td> <th>  Jarque-Bera (JB):  </th> <td>   0.290</td>\n",
       "</tr>\n",
       "<tr>\n",
       "  <th>Skew:</th>          <td>-0.240</td> <th>  Prob(JB):          </th> <td>   0.865</td>\n",
       "</tr>\n",
       "<tr>\n",
       "  <th>Kurtosis:</th>      <td> 2.951</td> <th>  Cond. No.          </th> <td>    52.5</td>\n",
       "</tr>\n",
       "</table><br/><br/>Warnings:<br/>[1] Standard Errors assume that the covariance matrix of the errors is correctly specified."
      ],
      "text/plain": [
       "<class 'statsmodels.iolib.summary.Summary'>\n",
       "\"\"\"\n",
       "                            OLS Regression Results                            \n",
       "==============================================================================\n",
       "Dep. Variable:                   beer   R-squared:                       0.504\n",
       "Model:                            OLS   Adj. R-squared:                  0.486\n",
       "Method:                 Least Squares   F-statistic:                     28.45\n",
       "Date:                Fri, 17 Aug 2018   Prob (F-statistic):           1.11e-05\n",
       "Time:                        19:14:34   Log-Likelihood:                -102.45\n",
       "No. Observations:                  30   AIC:                             208.9\n",
       "Df Residuals:                      28   BIC:                             211.7\n",
       "Df Model:                           1                                         \n",
       "Covariance Type:            nonrobust                                         \n",
       "===============================================================================\n",
       "                  coef    std err          t      P>|t|      [0.025      0.975]\n",
       "-------------------------------------------------------------------------------\n",
       "Intercept      34.6102      3.235     10.699      0.000      27.984      41.237\n",
       "temperature     0.7654      0.144      5.334      0.000       0.471       1.059\n",
       "==============================================================================\n",
       "Omnibus:                        0.587   Durbin-Watson:                   1.960\n",
       "Prob(Omnibus):                  0.746   Jarque-Bera (JB):                0.290\n",
       "Skew:                          -0.240   Prob(JB):                        0.865\n",
       "Kurtosis:                       2.951   Cond. No.                         52.5\n",
       "==============================================================================\n",
       "\n",
       "Warnings:\n",
       "[1] Standard Errors assume that the covariance matrix of the errors is correctly specified.\n",
       "\"\"\""
      ]
     },
     "execution_count": 82,
     "metadata": {},
     "output_type": "execute_result"
    }
   ],
   "source": [
    "# 単回帰分析のサマリー\n",
    "lm_model.summary()"
   ]
  },
  {
   "cell_type": "code",
   "execution_count": 83,
   "metadata": {},
   "outputs": [
    {
     "data": {
      "text/plain": [
       "<seaborn.axisgrid.FacetGrid at 0x1c29c4eb00>"
      ]
     },
     "execution_count": 83,
     "metadata": {},
     "output_type": "execute_result"
    },
    {
     "data": {
      "image/png": "[encoded data removed]",
      "text/plain": [
       "<Figure size 360x360 with 1 Axes>"
      ]
     },
     "metadata": {},
     "output_type": "display_data"
    }
   ],
   "source": [
    "sns.lmplot(x=\"temperature\", y=\"beer\", data=beer, scatter_kws = {\"color\": \"red\"}, line_kws={\"color\": \"blue\"})"
   ]
  },
  {
   "cell_type": "code",
   "execution_count": 84,
   "metadata": {},
   "outputs": [
    {
     "name": "stdout",
     "output_type": "stream",
     "text": [
      "0.503959323061188\n",
      "0.4862435845990851\n"
     ]
    }
   ],
   "source": [
    "# 自由度調整済み決定係数\n",
    "beer_mean = sp.sum(beer[\"beer\"]) / len(beer[\"beer\"])\n",
    "model_hendo = sp.sum((lm_model.fittedvalues - beer_mean) ** 2)\n",
    "all_hendo = sp.sum((beer[\"beer\"] - beer_mean) ** 2)\n",
    "R_squared = model_hendo / all_hendo\n",
    "print(R_squared)\n",
    "lm_model_df = len(beer[\"beer\"]) - 1 - 1\n",
    "lm_all_df = len(beer[\"beer\"]) - 1\n",
    "\n",
    "R_squared_adj = 1 - (lm_resid_squares / lm_resid_df) / (all_hendo / lm_all_df)\n",
    "print(R_squared_adj)"
   ]
  },
  {
   "cell_type": "markdown",
   "metadata": {},
   "source": [
    "\"複数の説明変数持つモデルに対する分散分析\""
   ]
  },
  {
   "cell_type": "code",
   "execution_count": 85,
   "metadata": {},
   "outputs": [
    {
     "name": "stdout",
     "output_type": "stream",
     "text": [
      "    humidity  price  sales  temperature weather\n",
      "0       29.5    290  229.7         17.8   rainy\n",
      "1       38.1    290  206.1         26.1   rainy\n",
      "2       31.5    290  202.5         22.0   rainy\n",
      "3       39.7    290  195.5         23.0   rainy\n",
      "4       24.7    290  214.4         14.5   rainy\n",
      "5       27.2    290  174.4         20.8   rainy\n",
      "6       29.3    290  238.6         23.7   rainy\n",
      "7       26.4    290  190.8         15.2   rainy\n",
      "8       27.9    290  211.2         18.7   rainy\n",
      "9       38.0    290  204.5         20.2   rainy\n",
      "10      26.9    290  221.7         13.1   rainy\n",
      "11      28.9    290  179.0         21.6   rainy\n",
      "12      37.9    290  208.2         24.2   rainy\n",
      "13      27.7    290  197.1         15.7   rainy\n",
      "14      29.4    290  227.2         21.8   rainy\n",
      "15      30.7    290  183.6         13.4   rainy\n",
      "16      33.8    290  205.2         19.8   rainy\n",
      "17      25.8    290  185.1         11.9   rainy\n",
      "18      39.6    290  215.4         25.6   rainy\n",
      "19      33.6    290  219.1         22.0   rainy\n",
      "20      36.8    290  191.4         19.9   rainy\n",
      "21      31.2    290  220.5         16.1   rainy\n",
      "22      40.5    290  229.2         26.4   rainy\n",
      "23      38.2    290  227.3         29.8   rainy\n",
      "24      22.8    290  210.4         10.7   rainy\n",
      "25      43.1    290  205.2         26.2   rainy\n",
      "26      35.2    290  215.9         28.1   rainy\n",
      "27      32.4    290  196.0         21.7   rainy\n",
      "28      26.3    290  196.8         14.0   rainy\n",
      "29      34.0    290  221.1         24.3   rainy\n",
      "..       ...    ...    ...          ...     ...\n",
      "70      30.6    315  191.5         16.8   sunny\n",
      "71      37.3    315  214.8         24.5   sunny\n",
      "72      39.8    315  234.5         32.6   sunny\n",
      "73      31.9    315  228.7         18.8   sunny\n",
      "74      27.5    315  222.0         20.2   sunny\n",
      "75      26.7    315  185.3         18.9   sunny\n",
      "76      29.7    315  220.4         26.7   sunny\n",
      "77      32.9    315  227.7         18.6   sunny\n",
      "78      31.3    315  224.5         23.4   sunny\n",
      "79      33.2    315  226.5         18.4   sunny\n",
      "80      23.8    315  206.0         13.6   sunny\n",
      "81      29.6    315  215.9         21.6   sunny\n",
      "82      31.8    315  222.8         22.5   sunny\n",
      "83      36.7    315  231.0         26.5   sunny\n",
      "84      29.8    315  219.3         19.4   sunny\n",
      "85      28.8    315  215.1         16.9   sunny\n",
      "86      31.7    315  210.3         22.8   sunny\n",
      "87      31.3    315  224.1         21.2   sunny\n",
      "88      27.5    315  220.5         21.4   sunny\n",
      "89      30.0    315  233.5         19.6   sunny\n",
      "90      32.9    315  241.9         25.8   sunny\n",
      "91      30.9    315  221.9         21.8   sunny\n",
      "92      37.2    315  222.8         29.5   sunny\n",
      "93      31.3    315  214.1         25.6   sunny\n",
      "94      31.7    315  227.3         23.3   sunny\n",
      "95      24.2    315  208.4         11.9   sunny\n",
      "96      33.1    315  215.4         23.0   sunny\n",
      "97      33.6    315  220.2         22.1   sunny\n",
      "98      29.6    315  212.6         24.1   sunny\n",
      "99      34.9    315  233.7         25.2   sunny\n",
      "\n",
      "[100 rows x 5 columns]\n"
     ]
    }
   ],
   "source": [
    "sales = pd.read_csv(\"./data/5-3-1-lm-model.csv\")\n",
    "print(sales)"
   ]
  },
  {
   "cell_type": "code",
   "execution_count": 86,
   "metadata": {},
   "outputs": [
    {
     "name": "stdout",
     "output_type": "stream",
     "text": [
      "Index(['humidity', 'price', 'sales', 'temperature', 'weather'], dtype='object')\n"
     ]
    },
    {
     "data": {
      "text/plain": [
       "<seaborn.axisgrid.PairGrid at 0x1c29d00518>"
      ]
     },
     "execution_count": 86,
     "metadata": {},
     "output_type": "execute_result"
    },
    {
     "data": {
      "text/plain": [
       "<Figure size 432x288 with 0 Axes>"
      ]
     },
     "metadata": {},
     "output_type": "display_data"
    },
    {
     "data": {
      "image/png": "[encoded data removed]",
      "text/plain": [
       "<Figure size 783x720 with 20 Axes>"
      ]
     },
     "metadata": {},
     "output_type": "display_data"
    }
   ],
   "source": [
    "# ペアプロット\n",
    "print(sales.columns)\n",
    "plt.figure(figsize=(6, 4))\n",
    "sns.pairplot(data=sales, hue=\"weather\", palette=\"hls\")"
   ]
  },
  {
   "cell_type": "code",
   "execution_count": 87,
   "metadata": {},
   "outputs": [
    {
     "name": "stdout",
     "output_type": "stream",
     "text": [
      "         humidity  price    sales  temperature\n",
      "weather                                       \n",
      "rainy      32.126  295.5  205.924       20.422\n",
      "sunny      30.852  309.5  222.718       21.102\n"
     ]
    }
   ],
   "source": [
    "# 天気によって分ける\n",
    "\n",
    "# 晴れ/雨\n",
    "print(sales.groupby(\"weather\").mean())"
   ]
  },
  {
   "cell_type": "code",
   "execution_count": 88,
   "metadata": {},
   "outputs": [
    {
     "data": {
      "text/plain": [
       "<seaborn.axisgrid.FacetGrid at 0x1c2a6a89b0>"
      ]
     },
     "execution_count": 88,
     "metadata": {},
     "output_type": "execute_result"
    },
    {
     "data": {
      "image/png": "[encoded data removed]",
      "text/plain": [
       "<Figure size 423x360 with 1 Axes>"
      ]
     },
     "metadata": {},
     "output_type": "display_data"
    }
   ],
   "source": [
    "sns.lmplot(x=\"price\",y=\"sales\", data=sales, hue=\"weather\", palette=\"bright\")"
   ]
  },
  {
   "cell_type": "code",
   "execution_count": 89,
   "metadata": {},
   "outputs": [
    {
     "data": {
      "text/plain": [
       "Intercept           278.627722\n",
       "weather[T.sunny]     19.989119\n",
       "humidity             -0.254055\n",
       "temperature           1.603115\n",
       "price                -0.329207\n",
       "dtype: float64"
      ]
     },
     "execution_count": 89,
     "metadata": {},
     "output_type": "execute_result"
    }
   ],
   "source": [
    "# 複数の説明変数を持つモデル\n",
    "lm_sales = smf.ols(\"sales ~ weather + humidity + temperature + price\", data=sales).fit()\n",
    "lm_sales.params"
   ]
  },
  {
   "cell_type": "code",
   "execution_count": 90,
   "metadata": {},
   "outputs": [
    {
     "data": {
      "text/html": [
       "<table class=\"simpletable\">\n",
       "<caption>OLS Regression Results</caption>\n",
       "<tr>\n",
       "  <th>Dep. Variable:</th>          <td>sales</td>      <th>  R-squared:         </th> <td>   0.405</td>\n",
       "</tr>\n",
       "<tr>\n",
       "  <th>Model:</th>                   <td>OLS</td>       <th>  Adj. R-squared:    </th> <td>   0.380</td>\n",
       "</tr>\n",
       "<tr>\n",
       "  <th>Method:</th>             <td>Least Squares</td>  <th>  F-statistic:       </th> <td>   16.15</td>\n",
       "</tr>\n",
       "<tr>\n",
       "  <th>Date:</th>             <td>Fri, 17 Aug 2018</td> <th>  Prob (F-statistic):</th> <td>4.01e-10</td>\n",
       "</tr>\n",
       "<tr>\n",
       "  <th>Time:</th>                 <td>19:51:46</td>     <th>  Log-Likelihood:    </th> <td> -399.39</td>\n",
       "</tr>\n",
       "<tr>\n",
       "  <th>No. Observations:</th>      <td>   100</td>      <th>  AIC:               </th> <td>   808.8</td>\n",
       "</tr>\n",
       "<tr>\n",
       "  <th>Df Residuals:</th>          <td>    95</td>      <th>  BIC:               </th> <td>   821.8</td>\n",
       "</tr>\n",
       "<tr>\n",
       "  <th>Df Model:</th>              <td>     4</td>      <th>                     </th>     <td> </td>   \n",
       "</tr>\n",
       "<tr>\n",
       "  <th>Covariance Type:</th>      <td>nonrobust</td>    <th>                     </th>     <td> </td>   \n",
       "</tr>\n",
       "</table>\n",
       "<table class=\"simpletable\">\n",
       "<tr>\n",
       "          <td></td>            <th>coef</th>     <th>std err</th>      <th>t</th>      <th>P>|t|</th>  <th>[0.025</th>    <th>0.975]</th>  \n",
       "</tr>\n",
       "<tr>\n",
       "  <th>Intercept</th>        <td>  278.6277</td> <td>   46.335</td> <td>    6.013</td> <td> 0.000</td> <td>  186.641</td> <td>  370.615</td>\n",
       "</tr>\n",
       "<tr>\n",
       "  <th>weather[T.sunny]</th> <td>   19.9891</td> <td>    3.522</td> <td>    5.675</td> <td> 0.000</td> <td>   12.997</td> <td>   26.982</td>\n",
       "</tr>\n",
       "<tr>\n",
       "  <th>humidity</th>         <td>   -0.2541</td> <td>    0.456</td> <td>   -0.558</td> <td> 0.578</td> <td>   -1.159</td> <td>    0.651</td>\n",
       "</tr>\n",
       "<tr>\n",
       "  <th>temperature</th>      <td>    1.6031</td> <td>    0.443</td> <td>    3.620</td> <td> 0.000</td> <td>    0.724</td> <td>    2.482</td>\n",
       "</tr>\n",
       "<tr>\n",
       "  <th>price</th>            <td>   -0.3292</td> <td>    0.155</td> <td>   -2.123</td> <td> 0.036</td> <td>   -0.637</td> <td>   -0.021</td>\n",
       "</tr>\n",
       "</table>\n",
       "<table class=\"simpletable\">\n",
       "<tr>\n",
       "  <th>Omnibus:</th>       <td> 0.160</td> <th>  Durbin-Watson:     </th> <td>   2.057</td>\n",
       "</tr>\n",
       "<tr>\n",
       "  <th>Prob(Omnibus):</th> <td> 0.923</td> <th>  Jarque-Bera (JB):  </th> <td>   0.016</td>\n",
       "</tr>\n",
       "<tr>\n",
       "  <th>Skew:</th>          <td>-0.028</td> <th>  Prob(JB):          </th> <td>   0.992</td>\n",
       "</tr>\n",
       "<tr>\n",
       "  <th>Kurtosis:</th>      <td> 3.027</td> <th>  Cond. No.          </th> <td>1.05e+04</td>\n",
       "</tr>\n",
       "</table><br/><br/>Warnings:<br/>[1] Standard Errors assume that the covariance matrix of the errors is correctly specified.<br/>[2] The condition number is large, 1.05e+04. This might indicate that there are<br/>strong multicollinearity or other numerical problems."
      ],
      "text/plain": [
       "<class 'statsmodels.iolib.summary.Summary'>\n",
       "\"\"\"\n",
       "                            OLS Regression Results                            \n",
       "==============================================================================\n",
       "Dep. Variable:                  sales   R-squared:                       0.405\n",
       "Model:                            OLS   Adj. R-squared:                  0.380\n",
       "Method:                 Least Squares   F-statistic:                     16.15\n",
       "Date:                Fri, 17 Aug 2018   Prob (F-statistic):           4.01e-10\n",
       "Time:                        19:51:46   Log-Likelihood:                -399.39\n",
       "No. Observations:                 100   AIC:                             808.8\n",
       "Df Residuals:                      95   BIC:                             821.8\n",
       "Df Model:                           4                                         \n",
       "Covariance Type:            nonrobust                                         \n",
       "====================================================================================\n",
       "                       coef    std err          t      P>|t|      [0.025      0.975]\n",
       "------------------------------------------------------------------------------------\n",
       "Intercept          278.6277     46.335      6.013      0.000     186.641     370.615\n",
       "weather[T.sunny]    19.9891      3.522      5.675      0.000      12.997      26.982\n",
       "humidity            -0.2541      0.456     -0.558      0.578      -1.159       0.651\n",
       "temperature          1.6031      0.443      3.620      0.000       0.724       2.482\n",
       "price               -0.3292      0.155     -2.123      0.036      -0.637      -0.021\n",
       "==============================================================================\n",
       "Omnibus:                        0.160   Durbin-Watson:                   2.057\n",
       "Prob(Omnibus):                  0.923   Jarque-Bera (JB):                0.016\n",
       "Skew:                          -0.028   Prob(JB):                        0.992\n",
       "Kurtosis:                       3.027   Cond. No.                     1.05e+04\n",
       "==============================================================================\n",
       "\n",
       "Warnings:\n",
       "[1] Standard Errors assume that the covariance matrix of the errors is correctly specified.\n",
       "[2] The condition number is large, 1.05e+04. This might indicate that there are\n",
       "strong multicollinearity or other numerical problems.\n",
       "\"\"\""
      ]
     },
     "execution_count": 90,
     "metadata": {},
     "output_type": "execute_result"
    }
   ],
   "source": [
    "# 複数の説明変数を持つモデルにおいて、回帰係数の有効性を検討するー＞「type2 anova(分散分析)」 or 「回帰係数毎にt検定」\n",
    "\n",
    "# 回帰係数ごとにt検定\n",
    "# 帰無仮説：対象の回帰係数は意味があるかわからない つまり、回帰係数は0を示す\n",
    "# 対立仮説：その回帰係数は必要\n",
    "# 回帰係数のt値= (回帰係数 - 0) / 　標準誤差\n",
    "# t検定で回帰係数が0と異なるかどうかをチェック\n",
    "# 回帰係数の標準誤差SE = sp.sqrt(Ve / Sxx)\n",
    "# 残差の不偏分散Ve = sp.sum(resid**2) / (N - 2)\n",
    "# 説明変数xの偏差平方和Sxx = sp.sum((xi - mean_xi) ** 2)\n",
    "\n",
    "# 回帰係数のt検定\n",
    "lm_sales.summary()\n",
    "\n",
    "\n"
   ]
  },
  {
   "cell_type": "markdown",
   "metadata": {},
   "source": [
    "分散分析によるモデル選択"
   ]
  },
  {
   "cell_type": "code",
   "execution_count": 100,
   "metadata": {},
   "outputs": [
    {
     "name": "stdout",
     "output_type": "stream",
     "text": [
      "17242.71694236649\n"
     ]
    }
   ],
   "source": [
    "# type2 anova分析　\n",
    "# すべての説明変数が含まれたモデルを構築して、残差平方和を求める。P.333\n",
    "model_full = smf.ols(\"sales ~ weather + humidity + temperature + price\", data=sales).fit()\n",
    "resid_sq_full = sp.sum(model_full.resid ** 2)\n",
    "print(resid_sq_full)"
   ]
  },
  {
   "cell_type": "code",
   "execution_count": 102,
   "metadata": {},
   "outputs": [
    {
     "name": "stdout",
     "output_type": "stream",
     "text": [
      "17299.142016107657\n"
     ]
    }
   ],
   "source": [
    "# 湿度だけを取り除いたモデルの残差平方和\n",
    "model_non_humi = smf.ols(\"sales ~ weather + temperature + price\", data=sales).fit()\n",
    "resid_sq_non_humi = sp.sum(model_non_humi.resid ** 2)\n",
    "print(resid_sq_non_humi)"
   ]
  },
  {
   "cell_type": "code",
   "execution_count": 105,
   "metadata": {},
   "outputs": [
    {
     "data": {
      "text/plain": [
       "56.42507374116758"
      ]
     },
     "execution_count": 105,
     "metadata": {},
     "output_type": "execute_result"
    }
   ],
   "source": [
    "# その残差平方和の差\n",
    "resid_sq_non_humi - resid_sq_full"
   ]
  },
  {
   "cell_type": "code",
   "execution_count": 107,
   "metadata": {},
   "outputs": [
    {
     "name": "stdout",
     "output_type": "stream",
     "text": [
      "                sum_sq    df       F  PR(>F)\n",
      "weather       5845.878   1.0  32.208   0.000\n",
      "humidity        56.425   1.0   0.311   0.578\n",
      "temperature   2378.017   1.0  13.102   0.000\n",
      "price          818.402   1.0   4.509   0.036\n",
      "Residual     17242.717  95.0     NaN     NaN\n"
     ]
    }
   ],
   "source": [
    "# 調整平方和を用いた分散分析type 2 anova\n",
    "print(sm.stats.anova_lm(model_full, typ=2).round(3))"
   ]
  },
  {
   "cell_type": "code",
   "execution_count": 109,
   "metadata": {},
   "outputs": [
    {
     "data": {
      "text/plain": [
       "(0.310878037569596, 0.578453342712099, 1.0)"
      ]
     },
     "execution_count": 109,
     "metadata": {},
     "output_type": "execute_result"
    }
   ],
   "source": [
    "# 2つのモデルを直接比較 (F比, p値,２つのモデルの自由度の差)\n",
    "model_full.compare_f_test(model_non_humi)"
   ]
  },
  {
   "cell_type": "code",
   "execution_count": 110,
   "metadata": {},
   "outputs": [
    {
     "data": {
      "text/html": [
       "<div>\n",
       "<style scoped>\n",
       "    .dataframe tbody tr th:only-of-type {\n",
       "        vertical-align: middle;\n",
       "    }\n",
       "\n",
       "    .dataframe tbody tr th {\n",
       "        vertical-align: top;\n",
       "    }\n",
       "\n",
       "    .dataframe thead th {\n",
       "        text-align: right;\n",
       "    }\n",
       "</style>\n",
       "<table border=\"1\" class=\"dataframe\">\n",
       "  <thead>\n",
       "    <tr style=\"text-align: right;\">\n",
       "      <th></th>\n",
       "      <th>sum_sq</th>\n",
       "      <th>df</th>\n",
       "      <th>F</th>\n",
       "      <th>PR(&gt;F)</th>\n",
       "    </tr>\n",
       "  </thead>\n",
       "  <tbody>\n",
       "    <tr>\n",
       "      <th>weather</th>\n",
       "      <td>6354.966</td>\n",
       "      <td>1.0</td>\n",
       "      <td>35.266</td>\n",
       "      <td>0.000</td>\n",
       "    </tr>\n",
       "    <tr>\n",
       "      <th>temperature</th>\n",
       "      <td>4254.736</td>\n",
       "      <td>1.0</td>\n",
       "      <td>23.611</td>\n",
       "      <td>0.000</td>\n",
       "    </tr>\n",
       "    <tr>\n",
       "      <th>price</th>\n",
       "      <td>803.644</td>\n",
       "      <td>1.0</td>\n",
       "      <td>4.460</td>\n",
       "      <td>0.037</td>\n",
       "    </tr>\n",
       "    <tr>\n",
       "      <th>Residual</th>\n",
       "      <td>17299.142</td>\n",
       "      <td>96.0</td>\n",
       "      <td>NaN</td>\n",
       "      <td>NaN</td>\n",
       "    </tr>\n",
       "  </tbody>\n",
       "</table>\n",
       "</div>"
      ],
      "text/plain": [
       "                sum_sq    df       F  PR(>F)\n",
       "weather       6354.966   1.0  35.266   0.000\n",
       "temperature   4254.736   1.0  23.611   0.000\n",
       "price          803.644   1.0   4.460   0.037\n",
       "Residual     17299.142  96.0     NaN     NaN"
      ]
     },
     "execution_count": 110,
     "metadata": {},
     "output_type": "execute_result"
    }
   ],
   "source": [
    "# 湿度を除いたモデルが妥当\n",
    "sm.stats.anova_lm(model_non_humi, typ=2).round(3)"
   ]
  },
  {
   "cell_type": "code",
   "execution_count": 111,
   "metadata": {},
   "outputs": [
    {
     "data": {
      "text/plain": [
       "Intercept           273.301800\n",
       "weather[T.sunny]     20.393871\n",
       "temperature           1.417860\n",
       "price                -0.326001\n",
       "dtype: float64"
      ]
     },
     "execution_count": 111,
     "metadata": {},
     "output_type": "execute_result"
    }
   ],
   "source": [
    "model_non_humi.params"
   ]
  },
  {
   "cell_type": "markdown",
   "metadata": {},
   "source": [
    "AICによるモデル選択\n"
   ]
  },
  {
   "cell_type": "markdown",
   "metadata": {},
   "source": [
    "分散分析のように計算方法を変える必要はない。愚直にモデルを作って、AICを比較するだけ"
   ]
  },
  {
   "cell_type": "code",
   "execution_count": null,
   "metadata": {},
   "outputs": [],
   "source": [
    "# すべての説明変数を持つモデルと「湿度」を除いたモデルのAICを比較\n",
    "print(\"全変数入りモデル:\", model_full.aic.round(3))\n",
    "print(\"湿度抜きモデル:\", )"
   ]
  }
 ],
 "metadata": {
  "kernelspec": {
   "display_name": "Python 3",
   "language": "python",
   "name": "python3"
  },
  "language_info": {
   "codemirror_mode": {
    "name": "ipython",
    "version": 3
   },
   "file_extension": ".py",
   "mimetype": "text/x-python",
   "name": "python",
   "nbconvert_exporter": "python",
   "pygments_lexer": "ipython3",
   "version": "3.6.5"
  }
 },
 "nbformat": 4,
 "nbformat_minor": 2
}
