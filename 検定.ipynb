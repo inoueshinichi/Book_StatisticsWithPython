{
 "cells": [
  {
   "cell_type": "code",
   "execution_count": 1,
   "metadata": {},
   "outputs": [],
   "source": [
    "import numpy as np\n",
    "import pandas as pd\n",
    "import scipy as sp\n",
    "from scipy import stats\n",
    "from matplotlib import pyplot as plt\n",
    "import seaborn as sns\n",
    "sns.set()\n",
    "%precision 3\n",
    "%matplotlib inline"
   ]
  },
  {
   "cell_type": "code",
   "execution_count": 2,
   "metadata": {},
   "outputs": [
    {
     "name": "stdout",
     "output_type": "stream",
     "text": [
      "0    58.529820\n",
      "1    52.353039\n",
      "2    74.446169\n",
      "3    52.983263\n",
      "4    55.876879\n",
      "Name: weight, dtype: float64\n",
      "55.38496619666667\n",
      "19\n",
      "8.756118777591023\n",
      "1.957927680575589\n",
      "2.750339683171343\n"
     ]
    }
   ],
   "source": [
    "# t検定\n",
    "junk_food = pd.read_csv(\"./data/3-8-1-junk-food-weight.csv\")[\"weight\"]\n",
    "print(junk_food.head())\n",
    "\n",
    "# ある標本抽出によって得られた標本分布から決まるt値\n",
    "mu = sp.mean(junk_food)\n",
    "print(mu)\n",
    "df = len(junk_food) - 1\n",
    "print(df)\n",
    "sigma = sp.std(junk_food, ddof=1)\n",
    "print(sigma)\n",
    "se = sigma / sp.sqrt(len(junk_food))\n",
    "print(se)\n",
    "\n",
    "t_value = (mu - 50) / se\n",
    "print(t_value)"
   ]
  },
  {
   "cell_type": "code",
   "execution_count": 3,
   "metadata": {},
   "outputs": [
    {
     "name": "stdout",
     "output_type": "stream",
     "text": [
      "0.012725590012524046\n"
     ]
    }
   ],
   "source": [
    "# t分布からp値を計算\n",
    "\n",
    "# あるt値を下回る累積確率　\n",
    "alpha = stats.t.cdf(t_value, df=df)\n",
    "print((1 - alpha) * 2)\n",
    "# p値が0.05を下回っているので、今回の検定でスナック菓子50kgと有意差がある"
   ]
  },
  {
   "cell_type": "code",
   "execution_count": 4,
   "metadata": {},
   "outputs": [
    {
     "data": {
      "text/plain": [
       "Ttest_1sampResult(statistic=2.750339683171343, pvalue=0.012725590012524182)"
      ]
     },
     "execution_count": 4,
     "metadata": {},
     "output_type": "execute_result"
    }
   ],
   "source": [
    "# stats.ttest_1samp()\n",
    "stats.ttest_1samp(junk_food, 50)"
   ]
  },
  {
   "cell_type": "code",
   "execution_count": 5,
   "metadata": {},
   "outputs": [],
   "source": [
    "# シミュレーションによるp値の計算\n",
    "# p値は「帰無仮説が正しいと仮定して、何度も標本抽出〜ｔ値計算を繰り返したとき、ｔ標本と同じかそれより大きなｔ値が得られる割合」と解釈できる。\n",
    "\n",
    "size = len(junk_food)\n",
    "sigma = sp.std(junk_food, ddof=1)\n",
    "\n",
    "# 母集団分布を平均50の正規分布と仮定して、50000回のt値を計算する\n",
    "t_value_array = np.zeros(50000)\n",
    "\n",
    "# 帰無仮説が正しいとして、標本抽出〜ｔ値計算を5万回繰り返す\n",
    "np.random.seed(1)\n",
    "norm_dist = stats.norm(loc=50, scale=sigma)\n",
    "for i in range(0, 50000):\n",
    "    sample = norm_dist.rvs(size=size) # サンプリング\n",
    "    sample_mean = sp.mean(sample)\n",
    "    sample_std = sp.std(sample, ddof=1)\n",
    "    sample_se = sample_std / sp.sqrt(size) # 標準誤差\n",
    "    t_value_array[i] = (sample_mean - 50) / sample_se\n"
   ]
  },
  {
   "cell_type": "code",
   "execution_count": 6,
   "metadata": {},
   "outputs": [
    {
     "data": {
      "text/plain": [
       "0.01324"
      ]
     },
     "execution_count": 6,
     "metadata": {},
     "output_type": "execute_result"
    }
   ],
   "source": [
    "# 50000個のt値のうち、t標本を上回った割合\n",
    "(sum(t_value_array > t_value) / 50000) * 2\n",
    "# 理論値とほぼ同じ"
   ]
  },
  {
   "cell_type": "code",
   "execution_count": 7,
   "metadata": {},
   "outputs": [
    {
     "name": "stdout",
     "output_type": "stream",
     "text": [
      "  person medicine  body_temperature\n",
      "0      A   before              36.2\n",
      "1      B   before              36.2\n",
      "2      C   before              35.3\n",
      "3      D   before              36.1\n",
      "4      E   before              36.1\n",
      "5      A    after              36.8\n",
      "6      B    after              36.1\n",
      "7      C    after              36.8\n",
      "8      D    after              37.1\n",
      "9      E    after              36.9\n"
     ]
    }
   ],
   "source": [
    "\"\"\"対応のあるt検定・・・・「同じ対象を異なった条件で2回測定して、その違いを見る」\"\"\"\n",
    "# -> 差分の平均値が0と異なるかどうかをチェック\n",
    "\n",
    "paired_test_data = pd.read_csv(\"./data/3-9-1-paired-t-test.csv\")\n",
    "print(paired_test_data)\n",
    "\n",
    "# 帰無仮説：薬を飲む前と後で体温は変わらない\n",
    "# 対立仮説：薬を飲む前と後で体温は変わる\n",
    "# 有意水準5%で検定を行う"
   ]
  },
  {
   "cell_type": "code",
   "execution_count": 8,
   "metadata": {},
   "outputs": [
    {
     "name": "stdout",
     "output_type": "stream",
     "text": [
      "[ 0.6 -0.1  1.5  1.   0.8]\n"
     ]
    }
   ],
   "source": [
    "# 前後の標本平均\n",
    "before = paired_test_data.query('medicine == \"before\"')[\"body_temperature\"]\n",
    "after = paired_test_data.query('medicine == \"after\"')[\"body_temperature\"]\n",
    "\n",
    "before = np.array(before)\n",
    "after = np.array(after)\n",
    "\n",
    "# 差\n",
    "diff = after - before\n",
    "print(diff)"
   ]
  },
  {
   "cell_type": "code",
   "execution_count": 9,
   "metadata": {},
   "outputs": [
    {
     "data": {
      "text/plain": [
       "Ttest_1sampResult(statistic=2.901693483620596, pvalue=0.044043109730074276)"
      ]
     },
     "execution_count": 9,
     "metadata": {},
     "output_type": "execute_result"
    }
   ],
   "source": [
    "# t検定を実行\n",
    "stats.ttest_1samp(diff, 0)\n",
    "# 有意差がある"
   ]
  },
  {
   "cell_type": "code",
   "execution_count": 10,
   "metadata": {},
   "outputs": [
    {
     "name": "stdout",
     "output_type": "stream",
     "text": [
      "3.1557282344421034\n"
     ]
    }
   ],
   "source": [
    "\"\"\"対応のないt検定・・・「平均値の差」に注目\"\"\"\n",
    "# 2群のt検定を行う\n",
    "# t値の計算式が1群のt検定とは異なる\n",
    "\n",
    "# 平均値\n",
    "mean_bef = sp.mean(before)\n",
    "mean_aft = sp.mean(after)\n",
    "\n",
    "# 分散（ここが1群のt検定とは異なるところ）\n",
    "var_bef = sp.var(before, ddof=1)\n",
    "var_aft = sp.var(after, ddof=1)\n",
    "\n",
    "# サンプルサイズ\n",
    "m = len(before)\n",
    "n = len(after)\n",
    "\n",
    "# t値\n",
    "t_value = (mean_aft - mean_bef) / sp.sqrt((var_aft/n + var_bef/m))\n",
    "print(t_value)"
   ]
  },
  {
   "cell_type": "code",
   "execution_count": 11,
   "metadata": {},
   "outputs": [
    {
     "data": {
      "text/plain": [
       "Ttest_indResult(statistic=3.1557282344421034, pvalue=0.013484775682079892)"
      ]
     },
     "execution_count": 11,
     "metadata": {},
     "output_type": "execute_result"
    }
   ],
   "source": [
    "# t検定(等分散ではない)・・・Welchのt検定\n",
    "stats.ttest_ind(after, before, equal_var=False)\n",
    "# 有意差がある"
   ]
  },
  {
   "cell_type": "code",
   "execution_count": 2,
   "metadata": {},
   "outputs": [
    {
     "name": "stdout",
     "output_type": "stream",
     "text": [
      "0.009821437357809604\n"
     ]
    }
   ],
   "source": [
    "\"\"\"χ二乗検定\"\"\"\n",
    "\n",
    "print(1 - sp.stats.chi2.cdf(x=6.667, df=1))"
   ]
  },
  {
   "cell_type": "code",
   "execution_count": 3,
   "metadata": {},
   "outputs": [
    {
     "name": "stdout",
     "output_type": "stream",
     "text": [
      "  color  click  freq\n",
      "0  blue  click    20\n",
      "1  blue    not   230\n",
      "2   red  click    10\n",
      "3   red    not    40\n"
     ]
    }
   ],
   "source": [
    "# 分割表の検定\n",
    "click_data = pd.read_csv(\"./data/3-10-1-click_data.csv\")\n",
    "print(click_data)"
   ]
  },
  {
   "cell_type": "code",
   "execution_count": 5,
   "metadata": {},
   "outputs": [
    {
     "name": "stdout",
     "output_type": "stream",
     "text": [
      "click  click  not\n",
      "color            \n",
      "blue      20  230\n",
      "red       10   40\n"
     ]
    }
   ],
   "source": [
    "# 分割表に変換\n",
    "cross = pd.pivot_table(\n",
    "    data = click_data,\n",
    "    values = \"freq\",\n",
    "    aggfunc=\"sum\",\n",
    "    index=\"color\",\n",
    "    columns=\"click\")\n",
    "\n",
    "print(cross)"
   ]
  },
  {
   "cell_type": "code",
   "execution_count": 7,
   "metadata": {},
   "outputs": [
    {
     "data": {
      "text/plain": [
       "(6.666666666666666, 0.009823274507519247, 1, array([[ 25., 225.],\n",
       "        [  5.,  45.]]))"
      ]
     },
     "execution_count": 7,
     "metadata": {},
     "output_type": "execute_result"
    }
   ],
   "source": [
    "# χ二乗検定\n",
    "sp.stats.chi2_contingency(cross, correction=False)"
   ]
  },
  {
   "cell_type": "code",
   "execution_count": null,
   "metadata": {},
   "outputs": [],
   "source": []
  }
 ],
 "metadata": {
  "kernelspec": {
   "display_name": "Python 3",
   "language": "python",
   "name": "python3"
  },
  "language_info": {
   "codemirror_mode": {
    "name": "ipython",
    "version": 3
   },
   "file_extension": ".py",
   "mimetype": "text/x-python",
   "name": "python",
   "nbconvert_exporter": "python",
   "pygments_lexer": "ipython3",
   "version": "3.6.5"
  }
 },
 "nbformat": 4,
 "nbformat_minor": 2
}
